{
 "cells": [
  {
   "cell_type": "markdown",
   "id": "81f8c2a9-ff37-4614-8293-ab0b861b66aa",
   "metadata": {},
   "source": [
    "# Tutorial for connecting the Keithley Spectrometer to Ubuntu 20.04 over LAN (Wired).\n",
    "\n",
    "The Spectrometer **Keithley 2461** and **Ubuntu 20.04** operating systems are used in this tutorial, but it may also be applicable to other Keithley Spectrometer machines from the 24XX family which have LAN connection capabilities. We only need common Ubuntu commands because the Spectrometer does not require for LAN connection additional drivers to function properly with the Ubuntu OS.  \n",
    "\n",
    "\n",
    "![LAN-0](images/LAN-0.jpg \"LAN-0\")\n",
    "\n",
    "You can communicate with the Spectrometer using a local area network (LAN). The LAN interface can be used to build flexible test systems that include web access. This section provides an overview of LAN communications for the Model 2461.\n",
    "\n",
    "# Step 1: Cable connection\n",
    "This section describes how to set up the LAN communications on your computer. The Keithley 2461 LAN port is located at the back of the device, connect the one end. Connect the other end of the LAN cable to the Computer. If you use an adapter for the computer connection, like a LAN-to-USB adapter, this will not affect communication. \n",
    "\n",
    "![LAN-1](images/LAN-1.jpg \"LAN-1\")\n",
    "\n",
    "# Step 2: LAN status LEDs\n",
    "The figure below illustrates the two status light emitting diodes (LED) that are on the LAN port of the instrument. The table below the figure provides explanations of the LED states. Wait for the LAN status indicator on the front panel to turn solid green. A solid green LAN status indicator confirms that the instrument was assigned an IP address. Note that it may take several minutes for the computer and instrument to establish a connection.\n",
    "\n",
    "![LAN-2](images/LAN-2.jpg \"LAN-2\")\n",
    "\n",
    "# Step 3: Wireded error - netowrk \n",
    "\n",
    "# Step 4: install ipconfig and one IPV4\n",
    "\n",
    "# Step 5: Static IP divice \n",
    "\n",
    "# Step 6: Static IP computer\n",
    "\n",
    "# Step 7: Install LXI Discovery Browser software on your computer\n",
    "\n",
    "You can use the LXI Discovery Browser to identify the IP addresses of LXI-certified instruments. Once identified, you can double-click the IP address in the LXI Discovery Browser to open the web interface for the instrument.\n",
    "\n",
    "# Step 8: Python or NI\n",
    "other tutorial how to install\n",
    "\n",
    "# Extra: One-to-many connection\n",
    "\n",
    "With a LAN hub, a single network interface card can be connected to as many instruments as the hub can support. This requires straight-through network (not crossover) cables for hub connections.\n",
    "The advantage of this method is easy expansion of measurement channels when the test requirements exceed the capacity of a single instrument. With only the instruments connected to the hub, this is an isolated instrumentation network. However, with a corporate network attached to the hub, the instruments become part of the larger network.\n",
    "\n",
    "# Refs & Links\n",
    "Image Ubuntu: https://res.cloudinary.com/canonical/image/fetch/f_auto,q_auto,fl_sanitize,w_1088,h_630/https://assets.ubuntu.com/v1/a8e96807-desktop-xps13-small.png\n"
   ]
  },
  {
   "cell_type": "code",
   "execution_count": null,
   "id": "b596d2b5-780e-406f-a1a3-83c227c76d1c",
   "metadata": {},
   "outputs": [],
   "source": []
  }
 ],
 "metadata": {
  "kernelspec": {
   "display_name": "Python 3 (ipykernel)",
   "language": "python",
   "name": "python3"
  },
  "language_info": {
   "codemirror_mode": {
    "name": "ipython",
    "version": 3
   },
   "file_extension": ".py",
   "mimetype": "text/x-python",
   "name": "python",
   "nbconvert_exporter": "python",
   "pygments_lexer": "ipython3",
   "version": "3.9.12"
  }
 },
 "nbformat": 4,
 "nbformat_minor": 5
}
