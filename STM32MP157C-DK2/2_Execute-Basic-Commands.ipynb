{
 "cells": [
  {
   "cell_type": "markdown",
   "id": "3a74bcd8-1aa8-44d4-a3d9-d930fef1edc8",
   "metadata": {},
   "source": [
    "# Execute basic commands \n",
    "\n",
    "After booting Linux operational System to the STM32MP15 Microprocessor following the tutorial: **Boot-STM32MP15**, then you may follow the guidelines below to complete the first contact between the Computer and the STM32MP15 Microprocessor. \n",
    "\n",
    "Again the purpose of this project is to use the  STM32MP15 Microprocessor as a medium to operate the different sensors. The operation will take place through a Linux computer, this computer we may call it **host** computer. \n",
    "\n",
    "\n",
    "![stm32-14](images/stm32-14.jpg \"stm32-14\")\n",
    "\n",
    "**LAB NOTE:** For mid-October 2022 we will start using Debian 11 as the mean PC Operational System. Debian is a Linux-based Operational System similar to Ubuntu. So, for the purposes of STM32MP15 Microprocessor both Operational System works well. So, whichever you use it will not make any difference. \n",
    "\n",
    "\n",
    "# Step 1: Hardware Connection\n",
    "\n",
    "As stated is the **Step 7: Booting the board** of the tutorial **Boot-STM32MP15**, make the following hardware connection: \n",
    "\n",
    "![stm32-10](images/stm32-10.jpg \"stm32-10\")\n",
    "\n",
    "Connect the following cables to the board (**1**): \n",
    "* MicroSD card slot - check that the microSD card is inserted into the dedicated slot (**2**)\n",
    "* 2 x USB Type-A (host) → connect mouse and keyboard (**3**) and (**4**)\n",
    "* USB micro-B (ST-LINK/V2-1) → connect to PC virtual COM port (**5**)\n",
    "* Connect the provided power supply (5 V, 3 A) to the USB type C connector (**8**)\n",
    "* Connect a HDMI monitor (or TV) to the HDMI connector (**9**).\n",
    "* Optional connect Ethernet cable to → Network (**7**)\n",
    "\n",
    "![stm32-11](images/stm32-11.jpg \"stm32-11\")\n",
    "\n",
    "\n",
    "# Step 2: Software Connection\n",
    "\n",
    "As soon as you complete the cable connection as instructed above. Install the  **minicom** package in the **host** computer via terminal: \n",
    "\n",
    "```\n",
    "$> sudo apt install minicom -y\n",
    "```\n",
    "\n",
    "And then in a terminal of the host computer connect the minicom to the /dev/ttyACM0 device by: \n",
    "\n",
    "```\n",
    "$> minicom -D /dev/ttyACM0\n",
    "```\n",
    "\n",
    "Press the reset button to reset the board. \n",
    "\n",
    "# Step 3: Basic commands\n",
    "\n",
    "After the connection and the reset compilation, you are connected as root user to the  STM32MP15 Microprocessor **root@stm32mp1:** and you may execute the following basic operational commands, to acquire basic information of the STM32MP15 Microprocessor:\n",
    "\n",
    " | Command  | Description |\n",
    " |---|---|\n",
    " |cat /etc/build|Printing distribution specific information| \n",
    " |uname -a|Printing system information↑|  \n",
    " |cat /proc/version |Printing Linux kernel and GCC versions| \n",
    " |df -h|Printing the amount of disk space available on all mounted file systems|  \n",
    " ||| \n",
    " \n",
    " # References\n",
    "- https://wiki.st.com/stm32mpu/wiki/Getting_started/STM32MP1_boards/STM32MP157x-DK2/Let%27s_start/Execute_basic_commands\n"
   ]
  },
  {
   "cell_type": "markdown",
   "id": "e7593c2d-adf1-4ae0-94a4-273ac718d7b6",
   "metadata": {},
   "source": []
  }
 ],
 "metadata": {
  "kernelspec": {
   "display_name": "Python 3 (ipykernel)",
   "language": "python",
   "name": "python3"
  },
  "language_info": {
   "codemirror_mode": {
    "name": "ipython",
    "version": 3
   },
   "file_extension": ".py",
   "mimetype": "text/x-python",
   "name": "python",
   "nbconvert_exporter": "python",
   "pygments_lexer": "ipython3",
   "version": "3.9.12"
  }
 },
 "nbformat": 4,
 "nbformat_minor": 5
}
