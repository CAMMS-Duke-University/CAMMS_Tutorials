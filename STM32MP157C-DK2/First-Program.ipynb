{
 "cells": [
  {
   "cell_type": "markdown",
   "id": "60ed5090-1ca3-4822-953e-2f0423f241de",
   "metadata": {},
   "source": [
    "# First Program\n",
    "\n",
    "After booting Linux operational System to the STM32MP15 Microprocessor following the tutorial: **Boot-STM32MP15**, and completing the basic operation of the STM32MP15 Microprocessor with the following tutorial: **Execute-basic-Commands** it’s time to write our first own program which from the **host** computer will execute a basic print operation in the  Microprocessor.\n",
    "\n",
    "# Step 1: Host computer configuration\n"
   ]
  },
  {
   "cell_type": "code",
   "execution_count": null,
   "id": "b181be3d-8256-4d1a-b824-abda64df81d5",
   "metadata": {},
   "outputs": [],
   "source": []
  }
 ],
 "metadata": {
  "kernelspec": {
   "display_name": "Python 3 (ipykernel)",
   "language": "python",
   "name": "python3"
  },
  "language_info": {
   "codemirror_mode": {
    "name": "ipython",
    "version": 3
   },
   "file_extension": ".py",
   "mimetype": "text/x-python",
   "name": "python",
   "nbconvert_exporter": "python",
   "pygments_lexer": "ipython3",
   "version": "3.9.12"
  }
 },
 "nbformat": 4,
 "nbformat_minor": 5
}
